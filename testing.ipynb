{
 "cells": [
  {
   "cell_type": "code",
   "execution_count": 1,
   "metadata": {},
   "outputs": [],
   "source": [
    "import pandas as pd "
   ]
  },
  {
   "cell_type": "code",
   "execution_count": 2,
   "metadata": {},
   "outputs": [],
   "source": [
    "def check_eligibility(age, experience):\n",
    "    \n",
    "    if age < 18 or age > 35:\n",
    "        return \"False\"\n",
    "    \n",
    "    \n",
    "    if experience < 1:\n",
    "        return \"False\"\n",
    "    \n",
    "    \n",
    "    if age >= 30 and experience < 3:\n",
    "        return \"False\"\n",
    "    \n",
    "    return \"True\"\n",
    "\n"
   ]
  },
  {
   "cell_type": "code",
   "execution_count": 12,
   "metadata": {},
   "outputs": [],
   "source": [
    "ouputs = {\n",
    "    'Invalid': \"Invalid\",\n",
    "    'True': \"Được tham gia\",\n",
    "    'False': \"Không được tham gia\"\n",
    "}"
   ]
  },
  {
   "cell_type": "code",
   "execution_count": 4,
   "metadata": {},
   "outputs": [],
   "source": [
    "boundary_testcases = [\n",
    "        (18, 1, \"True\"),   \n",
    "        (18, 3, \"True\"),   \n",
    "        (18, 70, \"Invalid\"),    \n",
    "        (18, 68, \"Invalid\"),    \n",
    "        (18, 35, \"Invalid\"),   \n",
    "        (35, 1, \"False\"),    \n",
    "        (35, 3, \"True\"),    \n",
    "        (35, 70, \"Invalid\"),   \n",
    "        (35, 35, \"Invalid\")\n",
    "]\n",
    "decision_testcases = [\n",
    "        (-1, 2, \"Invalid\"),   \n",
    "        (8, -3, \"Invalid\"),   \n",
    "        (31, 3, \"True\"),    \n",
    "        (32, 2, \"False\"),    \n",
    "        (33, 0, \"False\"),   \n",
    "        (37, 3, \"False\"),    \n",
    "        (20, 5, \"True\"),    \n",
    "        (22, 0, \"False\"),   \n",
    "        (13, 12, \"False\")\n",
    "]"
   ]
  },
  {
   "cell_type": "code",
   "execution_count": 13,
   "metadata": {},
   "outputs": [],
   "source": [
    "def test_program(test_cases, df):\n",
    "    \n",
    "    for age, exp, expected in test_cases:\n",
    "        actual = check_eligibility(age, exp)\n",
    "        result = \"\"\n",
    "        if actual == expected:\n",
    "            result = \"pass\"\n",
    "        else:\n",
    "            result = \"fail\"\n",
    "        new_row = [{'age': age, 'exp': exp, 'expected': ouputs[str(expected)], 'actual': ouputs[str(actual)], 'result': result}]\n",
    "        df = pd.concat([df, pd.DataFrame(new_row)], ignore_index=True)\n",
    "    return df\n"
   ]
  },
  {
   "cell_type": "code",
   "execution_count": 18,
   "metadata": {},
   "outputs": [],
   "source": [
    "# Test boundary testcases\n",
    "bd_df = pd.DataFrame(columns=['age', 'exp', 'expected', 'actual', 'result'])\n",
    "bd_df = test_program(boundary_testcases, bd_df)\n",
    "bd_df.to_excel('boundary_testcases.xlsx', sheet_name='Test report')"
   ]
  },
  {
   "cell_type": "code",
   "execution_count": 19,
   "metadata": {},
   "outputs": [],
   "source": [
    "# Test decision testcases\n",
    "# Test boundary testcases\n",
    "d_df = pd.DataFrame(columns=['age', 'exp', 'expected', 'actual', 'result'])\n",
    "d_df = test_program(decision_testcases, d_df)\n",
    "d_df.to_excel('decision_testcases.xlsx', sheet_name='Test report')\n"
   ]
  },
  {
   "cell_type": "code",
   "execution_count": null,
   "metadata": {},
   "outputs": [],
   "source": []
  }
 ],
 "metadata": {
  "kernelspec": {
   "display_name": "Python 3",
   "language": "python",
   "name": "python3"
  },
  "language_info": {
   "codemirror_mode": {
    "name": "ipython",
    "version": 3
   },
   "file_extension": ".py",
   "mimetype": "text/x-python",
   "name": "python",
   "nbconvert_exporter": "python",
   "pygments_lexer": "ipython3",
   "version": "3.10.11"
  }
 },
 "nbformat": 4,
 "nbformat_minor": 2
}
